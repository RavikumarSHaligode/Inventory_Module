{
 "cells": [
  {
   "cell_type": "code",
   "execution_count": 2,
   "id": "791429ad",
   "metadata": {},
   "outputs": [
    {
     "name": "stdout",
     "output_type": "stream",
     "text": [
      "4\n"
     ]
    }
   ],
   "source": [
    "print(4)"
   ]
  },
  {
   "cell_type": "code",
   "execution_count": 1,
   "id": "b8c68083",
   "metadata": {
    "scrolled": true
   },
   "outputs": [
    {
     "name": "stdout",
     "output_type": "stream",
     "text": [
      "total 5.1G\r\n",
      "drwxrwxrwx 2 mosaic-ai mosaic-ai    0 Dec  4 13:08 models--mistralai--Mistral-7B-v0.1\r\n",
      "drwxrwxrwx 2 mosaic-ai mosaic-ai    0 Dec 15 02:45 models--TheBloke--Mistral-7B-v0.1-GGUF\r\n",
      "drwxrwxrwx 2 mosaic-ai mosaic-ai    0 Dec 15 02:55 models--mistralai--Mistral-7B-Instruct-v0.1\r\n",
      "drwxrwxrwx 2 mosaic-ai mosaic-ai    0 Dec 15 05:37 models--ise-uiuc--Magicoder-S-DS-6.7B\r\n",
      "drwxrwxrwx 2 mosaic-ai mosaic-ai    0 Dec 15 16:05 temp\r\n",
      "-rwxrwxrwx 1 mosaic-ai mosaic-ai  29M Dec 15 16:08 tmp3d4ob0ac\r\n",
      "-rwxrwxrwx 1 mosaic-ai mosaic-ai    1 Dec 15 16:14 version.txt\r\n",
      "-rwxrwxrwx 1 mosaic-ai mosaic-ai 3.9G Dec 18 08:10 magicoder-s-ds-6.7b.Q4_K_M.gguf\r\n",
      "drwxrwxrwx 2 mosaic-ai mosaic-ai    0 Dec 21 06:35 models--Salesforce--codet5-small\r\n",
      "drwxrwxrwx 2 mosaic-ai mosaic-ai    0 Dec 21 14:20 models--google--flan-t5-base\r\n",
      "drwxrwxrwx 2 mosaic-ai mosaic-ai    0 Dec 21 15:03 t5-fine-tune\r\n",
      "drwxrwxrwx 2 mosaic-ai mosaic-ai    0 Dec 25 07:05 models--bert-base-uncased\r\n",
      "drwxrwxrwx 2 mosaic-ai mosaic-ai    0 Dec 28 08:59 quantized_model\r\n",
      "drwxrwxrwx 2 mosaic-ai mosaic-ai    0 Dec 28 09:48 models--meta-llama--Llama-2-7b-chat-hf\r\n",
      "drwxrwxrwx 2 mosaic-ai mosaic-ai    0 Dec 28 10:24 models--NousResearch--Llama-2-7b-hf\r\n",
      "drwxrwxrwx 2 mosaic-ai mosaic-ai    0 Dec 28 10:33 models--HuggingFaceH4--zephyr-7b-beta\r\n",
      "-rwxrwxrwx 1 mosaic-ai mosaic-ai 1.3G Dec 28 10:43 tmps_u5xwh1\r\n",
      "drwxrwxrwx 2 mosaic-ai mosaic-ai    0 Jan  1 11:21 models--google--flan-t5-xxl\r\n",
      "drwxrwxrwx 2 mosaic-ai mosaic-ai    0 Jan  1 11:36 models--google--flan-t5-xl\r\n",
      "drwxrwxrwx 2 mosaic-ai mosaic-ai    0 Jan  2 14:41 NLG_FINETUNEDMODELS\r\n",
      "drwxrwxrwx 2 mosaic-ai mosaic-ai    0 Jan  4 06:46 models--TheBloke--Magicoder-S-DS-6.7B-GPTQ\r\n",
      "drwxrwxrwx 2 mosaic-ai mosaic-ai    0 Jan  5 03:33 models--Salesforce--codet5p-2b\r\n",
      "drwxrwxrwx 2 mosaic-ai mosaic-ai    0 Jan  5 04:53 models--openchat--openchat_3.5\r\n",
      "drwxrwxrwx 2 mosaic-ai mosaic-ai    0 Jan  8 07:51 models--mistralai--Mistral-7B-Instruct-v0.2\r\n",
      "drwxrwxrwx 2 mosaic-ai mosaic-ai    0 Jan  9 05:07 models--TinyLlama--TinyLlama-1.1B-Chat-v1.0\r\n",
      "drwxrwxrwx 2 mosaic-ai mosaic-ai    0 Jan  9 05:30 models--HuggingFaceH4--starchat-beta\r\n",
      "drwxrwxrwx 2 mosaic-ai mosaic-ai    0 Jan 12 11:21 models--model_loaded\r\n",
      "drwxrwxrwx 2 mosaic-ai mosaic-ai    0 Jan 12 11:28 models--gpt2\r\n",
      "drwxrwxrwx 2 mosaic-ai mosaic-ai    0 Jan 15 10:11 models--roberta-base\r\n",
      "drwxrwxrwx 2 mosaic-ai mosaic-ai    0 Jan 15 10:11 models--roberta-large\r\n",
      "drwxrwxrwx 2 mosaic-ai mosaic-ai    0 Jan 17 05:34 models--Universal-NER--UniNER-7B-all\r\n",
      "drwxrwxrwx 2 mosaic-ai mosaic-ai    0 Jan 17 06:53 Openchat_check_points\r\n",
      "drwxrwxrwx 2 mosaic-ai mosaic-ai    0 Jan 17 07:55 query-to-mql\r\n",
      "drwxrwxrwx 2 mosaic-ai mosaic-ai    0 Jan 17 10:05 NLP_FINETUNED_MODELS\r\n",
      "drwxrwxrwx 2 mosaic-ai mosaic-ai    0 Jan 18 09:29 models--microsoft--phi-2\r\n"
     ]
    }
   ],
   "source": [
    "!ls -ltrh /llmmodels"
   ]
  },
  {
   "cell_type": "code",
   "execution_count": 4,
   "id": "ca498283",
   "metadata": {
    "scrolled": true
   },
   "outputs": [
    {
     "name": "stdout",
     "output_type": "stream",
     "text": [
      "GPTQ-quantized\tcheckpoint-20  checkpoint-40  merged-model  runs\r\n",
      "checkpoint-10\tcheckpoint-30  checkpoint-50  quant-model\r\n"
     ]
    }
   ],
   "source": [
    "!ls /data/quantization-trials"
   ]
  },
  {
   "cell_type": "code",
   "execution_count": null,
   "id": "690451aa",
   "metadata": {},
   "outputs": [],
   "source": [
    "!cp -r /data/quantization-trials /llmmodels"
   ]
  },
  {
   "cell_type": "code",
   "execution_count": null,
   "id": "d2fc25d5",
   "metadata": {},
   "outputs": [],
   "source": []
  },
  {
   "cell_type": "code",
   "execution_count": null,
   "id": "e5d241da",
   "metadata": {},
   "outputs": [],
   "source": [
    "!cp -r /data/mistral /llmmodels "
   ]
  }
 ],
 "metadata": {
  "kernelspec": {
   "display_name": "Python 3",
   "language": "python",
   "name": "python3"
  },
  "language_info": {
   "codemirror_mode": {
    "name": "ipython",
    "version": 3
   },
   "file_extension": ".py",
   "mimetype": "text/x-python",
   "name": "python",
   "nbconvert_exporter": "python",
   "pygments_lexer": "ipython3",
   "version": "3.8.16"
  }
 },
 "nbformat": 4,
 "nbformat_minor": 5
}
